{
 "cells": [
  {
   "cell_type": "code",
   "execution_count": null,
   "id": "934f0665",
   "metadata": {},
   "outputs": [],
   "source": [
    "# issue: anti-crawling from fb\n",
    "# it used to work before 2022/07\n",
    "\n",
    "from selenium import webdriver\n",
    "from selenium.webdriver.common.by import By\n",
    "from selenium.webdriver.support.ui import WebDriverWait\n",
    "from selenium.webdriver.support import expected_conditions as EC\n",
    "import time\n",
    "from bs4 import BeautifulSoup\n",
    "\n",
    "driver = webdriver.Chrome()\n",
    "driver.maximize_window()\n",
    "driver.get(\"https://www.facebook.com/groups/817620721658179?sorting_setting=CHRONOLOGICAL\")\n",
    "\n",
    "email = WebDriverWait(driver, 10).until(\n",
    "    EC.presence_of_element_located((By.NAME, \"email\"))\n",
    ")\n",
    "password = WebDriverWait(driver, 10).until(\n",
    "    EC.presence_of_element_located((By.NAME, \"pass\"))\n",
    ")\n",
    "login = driver.find_element(By.XPATH, '//*[@id=\"login_form\"]/div[2]/div[3]/div/div')\n",
    "\n",
    "email.clear()\n",
    "password.clear()\n",
    "email.send_keys('your_email')\n",
    "password.send_keys('your_password')\n",
    "\n",
    "login.click()\n",
    "time.sleep(3)"
   ]
  },
  {
   "cell_type": "code",
   "execution_count": null,
   "id": "30b99d3a",
   "metadata": {},
   "outputs": [],
   "source": [
    "# beautifulsoup approach, getting result: href=\"#\"\n",
    "driver.execute_script('window.scrollTo(0, document.body.scrollHeight);')\n",
    "time.sleep(3)\n",
    "\n",
    "soup = BeautifulSoup(driver.page_source, \"html.parser\")\n",
    "feed = soup.find('div', role='feed')\n",
    "posts = feed.find_all('div', 'g4tp4svg mfclru0v om3e55n1 p8bdhjjv')\n",
    "links = []\n",
    "\n",
    "for post in posts:\n",
    "    info = post.find('a', 'qi72231t nu7423ey n3hqoq4p r86q59rh b3qcqh3k fq87ekyn bdao358l fsf7x5fv rse6dlih s5oniofx m8h3af8h l7ghb35v kjdc1dyq kmwttqpk srn514ro oxkhqvkx rl78xhln nch0832m cr00lzj9 rn8ck1ys s3jn8y49 icdlwmnq jxuftiz4 cxfqmxzd tes86rjd')\n",
    "    if info:\n",
    "        links.append(info.attrs['href'].split('?',2)[0])\n",
    "\n",
    "for i in range(len(links)):\n",
    "    print(links[i])"
   ]
  },
  {
   "cell_type": "code",
   "execution_count": null,
   "id": "90582c66",
   "metadata": {},
   "outputs": [],
   "source": [
    "# selenium approach, getting result: href=\"https://www.facebook.com/groups/817620721658179?sorting_setting=CHRONOLOGICAL#\"\n",
    "driver.execute_script('window.scrollTo(0, document.body.scrollHeight);')\n",
    "time.sleep(3)\n",
    "\n",
    "posts = driver.find_elements(By.XPATH, \"//div[@class='g4tp4svg mfclru0v om3e55n1 p8bdhjjv']\")\n",
    "links = []\n",
    "\n",
    "for post in posts:\n",
    "    info = post.find_element(By.XPATH, \"//a[@class='qi72231t nu7423ey n3hqoq4p r86q59rh b3qcqh3k fq87ekyn bdao358l fsf7x5fv rse6dlih s5oniofx m8h3af8h l7ghb35v kjdc1dyq kmwttqpk srn514ro oxkhqvkx rl78xhln nch0832m cr00lzj9 rn8ck1ys s3jn8y49 icdlwmnq jxuftiz4 cxfqmxzd tes86rjd']\")\n",
    "    links.append(info.get_attribute('href'))\n",
    "    \n",
    "for i in range(len(links)):\n",
    "    print(links[i])"
   ]
  }
 ],
 "metadata": {
  "kernelspec": {
   "display_name": "Python 3 (ipykernel)",
   "language": "python",
   "name": "python3"
  },
  "language_info": {
   "codemirror_mode": {
    "name": "ipython",
    "version": 3
   },
   "file_extension": ".py",
   "mimetype": "text/x-python",
   "name": "python",
   "nbconvert_exporter": "python",
   "pygments_lexer": "ipython3",
   "version": "3.9.7"
  }
 },
 "nbformat": 4,
 "nbformat_minor": 5
}
