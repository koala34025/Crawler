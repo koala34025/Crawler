{
 "cells": [
  {
   "cell_type": "code",
   "execution_count": null,
   "id": "56fa5cae",
   "metadata": {},
   "outputs": [],
   "source": [
    "from selenium import webdriver\n",
    "from selenium.webdriver.common.by import By\n",
    "from selenium.webdriver.support.ui import WebDriverWait\n",
    "from selenium.webdriver.support import expected_conditions as EC\n",
    "import time\n",
    "from bs4 import BeautifulSoup\n",
    "import pandas as pd\n",
    "\n",
    "driver = webdriver.Chrome()\n",
    "driver.maximize_window()\n",
    "driver.get(\"https://www.instagram.com\")"
   ]
  },
  {
   "cell_type": "code",
   "execution_count": null,
   "id": "307bea43",
   "metadata": {},
   "outputs": [],
   "source": [
    "# log in\n",
    "username = WebDriverWait(driver, 10).until(\n",
    "    EC.presence_of_element_located((By.NAME, \"username\"))\n",
    ")\n",
    "password = WebDriverWait(driver, 10).until(\n",
    "    EC.presence_of_element_located((By.NAME, \"password\"))\n",
    ")\n",
    "login = driver.find_element(By.XPATH, '//*[@id=\"loginForm\"]/div/div[3]/button/div')\n",
    "\n",
    "ID = \"your_username\"\n",
    "username.clear()\n",
    "password.clear()\n",
    "username.send_keys(ID)\n",
    "password.send_keys(\"your_password\")\n",
    "\n",
    "login.click()\n",
    "# wait until search box appears\n",
    "wait = WebDriverWait(driver, 10).until(\n",
    "    EC.presence_of_element_located((By.XPATH, '//*[@id=\"react-root\"]/section/nav/div[2]/div/div/div[2]/input'))\n",
    ")"
   ]
  },
  {
   "cell_type": "code",
   "execution_count": null,
   "id": "3ec8925d",
   "metadata": {},
   "outputs": [],
   "source": [
    "# crawl urls and descriptions of saved posts\n",
    "driver.get(\"https://www.instagram.com/\" + ID + \"/saved/all-posts/\")\n",
    "time.sleep(3)\n",
    "\n",
    "links = []\n",
    "descriptions = []\n",
    "\n",
    "last_height = driver.execute_script(\"return document.body.scrollHeight\")\n",
    "last_link = \"\"\n",
    "\n",
    "while True:\n",
    "    # add links and descriptions\n",
    "    soup = BeautifulSoup(driver.page_source, \"html.parser\")\n",
    "    articles = soup.find(\"article\")\n",
    "    posts = articles.find_all(\"div\", \"_aabd _aa8k _aanf\")\n",
    "    start_appending = False\n",
    "\n",
    "    for post in posts:\n",
    "        info = post.find(\"a\", \"qi72231t nu7423ey n3hqoq4p r86q59rh b3qcqh3k fq87ekyn bdao358l fsf7x5fv rse6dlih s5oniofx m8h3af8h l7ghb35v kjdc1dyq kmwttqpk srn514ro oxkhqvkx rl78xhln nch0832m cr00lzj9 rn8ck1ys s3jn8y49 icdlwmnq _a6hd\")\n",
    "        link = info.attrs['href']\n",
    "        desc = info.find(\"img\", \"_aagt\")\n",
    "        \n",
    "        if last_link == \"\":\n",
    "            start_appending = True\n",
    "\n",
    "        if start_appending:\n",
    "            links.append(\"https://www.instagram.com\" + link)\n",
    "            last_link = link\n",
    "            try:\n",
    "                alt = desc.attrs['alt']\n",
    "                descriptions.append(alt)\n",
    "            except:\n",
    "                descriptions.append(\"-\")\n",
    "        elif link == last_link:\n",
    "            start_appending = True\n",
    "\n",
    "    # scroll and load\n",
    "    driver.execute_script(\"window.scrollTo(0, document.body.scrollHeight);\")\n",
    "    time.sleep(7)\n",
    "    new_height = driver.execute_script(\"return document.body.scrollHeight\")\n",
    "    if new_height == last_height:\n",
    "        break\n",
    "    last_height = new_height"
   ]
  },
  {
   "cell_type": "code",
   "execution_count": null,
   "id": "bd83e4b2",
   "metadata": {},
   "outputs": [],
   "source": [
    "# display as data frame\n",
    "pd.set_option(\"display.max_rows\", None)\n",
    "\n",
    "data = {'url': links, 'description': descriptions}\n",
    "data_frame = pd.DataFrame(data)\n",
    "\n",
    "data_frame"
   ]
  }
 ],
 "metadata": {
  "kernelspec": {
   "display_name": "Python 3 (ipykernel)",
   "language": "python",
   "name": "python3"
  },
  "language_info": {
   "codemirror_mode": {
    "name": "ipython",
    "version": 3
   },
   "file_extension": ".py",
   "mimetype": "text/x-python",
   "name": "python",
   "nbconvert_exporter": "python",
   "pygments_lexer": "ipython3",
   "version": "3.9.7"
  }
 },
 "nbformat": 4,
 "nbformat_minor": 5
}
